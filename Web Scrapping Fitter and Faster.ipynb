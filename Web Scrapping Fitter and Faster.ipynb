{
 "cells": [
  {
   "cell_type": "code",
   "execution_count": 34,
   "id": "75f03274",
   "metadata": {},
   "outputs": [],
   "source": [
    "from urllib.request import urlopen\n",
    "from bs4 import BeautifulSoup\n",
    "import re\n",
    "import requests\n",
    "import pandas as pd"
   ]
  },
  {
   "cell_type": "code",
   "execution_count": 6,
   "id": "47da5d32",
   "metadata": {},
   "outputs": [],
   "source": [
    "url = 'https://fitterandfaster.com/swim-clinics-near-me/'\n",
    "\n",
    "soup = BeautifulSoup(urlopen(url))"
   ]
  },
  {
   "cell_type": "code",
   "execution_count": 9,
   "id": "6d4ee394",
   "metadata": {},
   "outputs": [
    {
     "name": "stdout",
     "output_type": "stream",
     "text": [
      "[<h2 class=\"mk-fancy-title simple-style find-a-clinic-title color-single\" id=\"fancy-title-5\">\n",
      "<span>\n",
      "\t\t\t\tSwim clinics and camps near you:\t\t\t</span>\n",
      "</h2>, <h2 class=\"smw-title\"><a href=\"https://fitterandfaster.com/swim-clinics/2021-high-performance-swim-camp-series-roseville-ca/\">2021 High-Performance Freestyle &amp; Backstroke Camp - Roseville, CA</a></h2>, <h2 class=\"smw-title\"><a href=\"https://fitterandfaster.com/swim-clinics/high-performance-freestyle-race-strategy-camp-plano-il/\">High Performance Freestyle &amp; Race Strategy Camp - Plano, IL</a></h2>, <h2 class=\"smw-title\"><a href=\"https://fitterandfaster.com/swim-clinics/butterfly-breaststroke-technique-camp-ponte-vedra-fl/\">Butterfly &amp; Breaststroke Technique Camp - Ponte Vedra, FL</a></h2>, <h2 class=\"smw-title\"><a href=\"https://fitterandfaster.com/swim-clinics/faster-freestyle-racing-camp-houston-tx/\">Faster Freestyle Racing Camp - Houston, TX</a></h2>, <h2 class=\"smw-title\"><a href=\"https://fitterandfaster.com/swim-clinics/high-performance-stroke-technique-camp-watertown-ct/\">High Performance Stroke Technique Camp - Watertown, CT</a></h2>, <h2 class=\"smw-title\"><a href=\"https://fitterandfaster.com/swim-clinics/race-strategy-swim-camp-series-tyler-tx/\">Race Strategy Swim Camp Series - Tyler, TX</a></h2>, <h2 class=\"smw-title\"><a href=\"https://fitterandfaster.com/swim-clinics/high-performance-breaststroke-racing-camp-erie-pa/\">High Performance Breaststroke Racing - Erie, PA</a></h2>, <h2 class=\"smw-title\"><a href=\"https://fitterandfaster.com/swim-clinics/explosive-performance-race-strategy-camp-santa-clarita-ca/\">Explosive Performance Starts &amp; Turns Camp - Santa Clarita, CA</a></h2>, <h2 class=\"smw-title\"><a href=\"https://fitterandfaster.com/swim-clinics/explosive-performance-starts-turns-muscatine-ia/\">Explosive Performance Starts &amp; Turns - Muscatine, IA</a></h2>, <h2 class=\"smw-title\"><a href=\"https://fitterandfaster.com/swim-clinics/explosive-performance-short-axis-swim-camp-land-o-lakes-fl/\">Explosive Performance: Starts &amp; Turns Camp - Land O' Lakes, FL</a></h2>, <h2 class=\"smw-title\"><a href=\"https://fitterandfaster.com/swim-clinics/high-performance-stroke-technique-camp-jenison-mi/\">High Performance Breaststroke and Butterfly Camp - Jenison, MI</a></h2>, <h2 class=\"smw-title\"><a href=\"https://fitterandfaster.com/swim-clinics/high-performance-stroke-technique-camp-ronkonkoma-ny/\">High Performance Stroke Technique Camp - Ronkonkoma, NY</a></h2>, <h2 class=\"smw-title\"><a href=\"https://fitterandfaster.com/swim-clinics/high-performance-race-strategy-camp-series-woodstock-ga/\">Race Strategy Camp - Woodstock, GA</a></h2>, <h2 class=\"smw-title\"><a href=\"https://fitterandfaster.com/swim-clinics/stroke-technique-explosive-performance-camp-series-pinedale-wy/\">Explosive Performance Camp: Starts &amp; Turns - Pinedale, WY</a></h2>, <h2 class=\"smw-title\"><a href=\"https://fitterandfaster.com/swim-clinics/explosive-performance-speed-power-snohomish-wa/\">2021-22 Snohomish Swim Camp Series - Snohomish, WA</a></h2>, <h2 class=\"smw-title\"><a href=\"https://fitterandfaster.com/swim-clinics/2021-high-performance-race-strategy-series-irvine-ca/\">Race Strategy &amp; Execution Series - Irvine, CA</a></h2>, <h2 class=\"smw-title\"><a href=\"https://fitterandfaster.com/swim-clinics/explosive-starts-camp-johnston-ia/\">Explosive Starts Camp - Johnston, IA</a></h2>, <h2 class=\"smw-title\"><a href=\"https://fitterandfaster.com/swim-clinics/atlanta-ga-swim-camps/\">Explosive Performance: Starts &amp; Turns Camp - Atlanta, GA</a></h2>, <h2 class=\"smw-title\"><a href=\"https://fitterandfaster.com/swim-clinics/explosive-performance-speedpower-camp-series-st-louis-mo/\">2021 St Louis Swim Camp - St Louis, MO</a></h2>, <h2 class=\"smw-title\"><a href=\"https://fitterandfaster.com/swim-clinics/explosive-performance-butterfly-breaststroke-swim-camp-series-warrenton-va/\">High Performance Butterfly and Breaststroke Camp - Warrenton, VA</a></h2>, <h2 class=\"smw-title\"><a href=\"https://fitterandfaster.com/swim-clinics/2021-scottsdale-az-swim-camp/\">Thanksgiving Weekend 2021 Swim Camp - Scottsdale, AZ</a></h2>, <h2 class=\"smw-title\"><a href=\"https://fitterandfaster.com/swim-clinics/2021-high-performance-swim-camp-series-toms-river-nj/\">Toms River, NJ Swim Camps! - Toms River, NJ</a></h2>, <h2 class=\"smw-title\"><a href=\"https://fitterandfaster.com/swim-clinics/2021-high-performance-swim-camp-series-new-orleans-la/\">2021 Sprinting Race Strategy &amp; Execution Camp - New Orleans, LA</a></h2>, <h2 class=\"smw-title\"><a href=\"https://fitterandfaster.com/swim-clinics/comprehensive-freestyle-backstroke-swim-camp-series-inver-grove-heights-mn/\">COMPREHENSIVE BACKSTROKE CAMP  - Inver Grove Heights, MN</a></h2>, <h2 class=\"smw-title\"><a href=\"https://fitterandfaster.com/swim-clinics/race-strategy-comprehensive-freestyle-swim-camp-series-raleigh-nc/\">Thanksgiving Weekend 2021 Swim Camp - Raleigh, NC</a></h2>, <h2 class=\"smw-title\"><a href=\"https://fitterandfaster.com/swim-clinics/2021-high-performance-swim-camp-series-waterford-mi/\">2021 Comprehensive Turns Camp - Waterford, MI</a></h2>, <h2 class=\"smw-title\"><a href=\"https://fitterandfaster.com/swim-clinics/high-performance-swim-camp-series-salem-nh/\">Thanksgiving Weekend 2021 Swim Camp in Salem, NH</a></h2>, <h2 class=\"smw-title\"><a href=\"https://fitterandfaster.com/swim-clinics/2021-high-performance-swim-camp-series-western-springs-il/\">2021 Race Strategy Camp: 200's &amp; 100's - Western Springs, IL</a></h2>, <h2 class=\"smw-title\"><a href=\"https://fitterandfaster.com/swim-clinics/explosive-performance-race-strategy-camp-series-clermont-fl/\">2021 Clermont, FL Swim Camp - Clermont, FL</a></h2>, <h2 class=\"smw-title\"><a href=\"https://fitterandfaster.com/swim-clinics/explosive-performance-comprehensive-butterfly-camp-series-marysville-oh/\">Comprehensive Butterfly Camp - Marysville, OH</a></h2>, <h2 class=\"smw-title\"><a href=\"https://fitterandfaster.com/swim-clinics/explosive-performance-swim-camp-series-stamford-ct/\">Speed and Power Swim Camp - Stamford, CT</a></h2>, <h2 class=\"smw-title\"><a href=\"https://fitterandfaster.com/swim-clinics/2021-high-performance-swim-camp-series-pleasant-prairie-wi/\">2021 Speed &amp; Power Camp - Pleasant Prairie, WI</a></h2>, <h2 class=\"smw-title\"><a href=\"https://fitterandfaster.com/swim-clinics/comprehensive-racing-camp-series-houston-tx/\">Comprehensive Racing Camp Series - Houston, TX</a></h2>, <h2 class=\"smw-title\"><a href=\"https://fitterandfaster.com/swim-clinics/2021-high-performance-swim-camp-series-wellesley-ma/\">2021 Speed and Power Camp - Wellesley, MA</a></h2>, <h2 class=\"smw-title\"><a href=\"https://fitterandfaster.com/swim-clinics/butterfly-breaststroke-technique-race-strategy-swim-camp-series-hutchinson-mn/\">2021 Hutchinson Swim Camp - Hutchinson, MN</a></h2>, <h2 class=\"smw-title\"><a href=\"https://fitterandfaster.com/swim-clinics/explosive-starts-turns-camp-anthem-az/\">Explosive Performance: Starts &amp; Turns Camp - Anthem, AZ</a></h2>, <h2 class=\"smw-title\"><a href=\"https://fitterandfaster.com/swim-clinics/2021-high-performance-swim-camp-series-roanoke-va/\">2021 High Performance Swim Camp - Roanoke, VA</a></h2>, <h2 class=\"smw-title\"><a href=\"https://fitterandfaster.com/swim-clinics/explosive-performance-starts-turns-virginia-beach-va/\">Explosive Performance Camp: Starts &amp; Turns - Virginia Beach, VA</a></h2>, <h2 class=\"smw-title\"><a href=\"https://fitterandfaster.com/swim-clinics/elite-stroke-mechanics-race-strategy-swim-camp-cincinnati-oh/\">High Performance Butterfly and Breaststroke Camp - Cincinnati, OH</a></h2>, <h2 class=\"smw-title\"><a href=\"https://fitterandfaster.com/swim-clinics/explosive-performance-comprehensive-freestyle-swim-camp-series-frisco-tx/\">Explosive Performance: Turns Camp - Frisco, TX</a></h2>, <h2 class=\"smw-title\"><a href=\"https://fitterandfaster.com/swim-clinics/explosive-performance-starts-turns-concord-nh/\">Explosive Performance: Starts and Turns - Concord, NH</a></h2>, <h2 class=\"smw-title\"><a href=\"https://fitterandfaster.com/swim-clinics/explosive-performance-comprehensive-butterfly-camp-series-hollidaysburg-pa/\">High Performance Butterfly &amp; Breaststroke Racing Camp - Hollidaysburg, PA</a></h2>, <h2 class=\"smw-title\"><a href=\"https://fitterandfaster.com/swim-clinics/explosive-performance-race-strategy-camp-series-tupelo-ms/\">High Performance Freestyle Racing Camp - Tupelo, MS</a></h2>, <h2 class=\"smw-title\"><a href=\"https://fitterandfaster.com/swim-clinics/2021-twin-cities-swim-camp-twin-cities-mn/\">2021 Twin Cities Swim Camp - Twin Cities, MN</a></h2>, <h2 class=\"smw-title\"><a href=\"https://fitterandfaster.com/swim-clinics/high-performance-butterfly-breaststroke-technique-camp-boaz-al/\">High Performance Butterfly &amp; Breaststroke Technique Camp - Boaz, AL</a></h2>, <h2 class=\"smw-title\"><a href=\"https://fitterandfaster.com/swim-clinics/explosive-performance-starts-turns-camp-birmingham-al/\">Explosive Performance: Starts &amp; Turns! - Birmingham, AL</a></h2>, <h2 class=\"smw-title\"><a href=\"https://fitterandfaster.com/swim-clinics/explosive-performance-starts-turns-camp-cedar-rapids-ia/\">Explosive Performance Starts &amp; Turns Camp - Cedar Rapids, IA</a></h2>, <h2 class=\"smw-title\"><a href=\"https://fitterandfaster.com/swim-clinics/race-strategy-elite-technique-camp-series-bay-area-ca/\">High Performance Breaststroke Racing Camp - Bay Area, CA</a></h2>, <h2 class=\"smw-title\"><a href=\"https://fitterandfaster.com/swim-clinics/freestyle-technique-race-strategy-swim-camp-palatine-il/\">Freestyle Technique and Race Strategy Swim Camp - Palatine, IL</a></h2>, <h2 class=\"smw-title\"><a href=\"https://fitterandfaster.com/swim-clinics/comprehensive-racing-camp-series-houston-tx/\">Comprehensive Racing Camp Series - Houston, TX</a></h2>, <h2 class=\"smw-title\"><a href=\"https://fitterandfaster.com/swim-clinics/2021-high-performance-racing-camp-series-voorhees-nj/\">Elite Speed &amp; Power Camp! - Voorhees, NJ</a></h2>, <h2 class=\"smw-title\"><a href=\"https://fitterandfaster.com/swim-clinics/2021-high-performance-race-strategy-series-irvine-ca/\">Race Strategy &amp; Execution Series - Irvine, CA</a></h2>, <h2 class=\"smw-title\"><a href=\"https://fitterandfaster.com/swim-clinics/2021-atlanta-sprinting-camp-atlanta-ga/\">2021 Atlanta Sprinting Camp - Atlanta, GA</a></h2>, <h2 class=\"smw-title\"><a href=\"https://fitterandfaster.com/swim-clinics/2021-franklin-ma-swim-camp/\">2021 Franklin, MA Swim Camp</a></h2>, <h2 class=\"smw-title\"><a href=\"https://fitterandfaster.com/swim-clinics/explosive-performance-speed-power-freestyle-backstroke-racing-swim-camp-fairfax-va/\">2021 Fairfax, VA Swim Camp - Fairfax, VA</a></h2>, <h2 class=\"smw-title\"><a href=\"https://fitterandfaster.com/swim-clinics/high-performance-freestyle-backstroke-technique-camp-millersville-pa/\">High Performance Freestyle &amp; Backstroke Technique Camp - Millersville, PA</a></h2>, <h2 class=\"smw-title\"><a href=\"https://fitterandfaster.com/swim-clinics/explosive-performance-starts-turns-swim-camp-exton-pa/\">Explosive Performance- Starts &amp; Turns Swim &amp; Dryland Camp - Exton, PA</a></h2>, <h2 class=\"smw-title\"><a href=\"https://fitterandfaster.com/swim-clinics/2021-high-performance-swim-camp-series-indianapolis/\">Comprehensive Freestyle Racing Camp - Indianapolis, IN</a></h2>, <h2 class=\"smw-title\"><a href=\"https://fitterandfaster.com/swim-clinics/high-performance-starts-turns-bennington-vt/\">High Performance Starts &amp; Turns - Bennington, VT</a></h2>, <h2 class=\"smw-title\"><a href=\"https://fitterandfaster.com/swim-clinics/explosive-performance-starts-turns-camp-bridgewater-va/\">Explosive Performance: Starts &amp; Turns! - Bridgewater, VA</a></h2>, <h2 class=\"smw-title\"><a href=\"https://fitterandfaster.com/swim-clinics/2022-rockledge-fl-swim-camp/\">2022 Rockledge, FL Swim Camp</a></h2>, <h2 class=\"smw-title\"><a href=\"https://fitterandfaster.com/swim-clinics/2022-ashland-oh-swim-camp-ashland-oh/\">2022 Ashland, OH Swim Camp - Ashland, OH</a></h2>, <h2 class=\"smw-title\"><a href=\"https://fitterandfaster.com/swim-clinics/explosive-performance-speed-power-snohomish-wa/\">2021-22 Snohomish Swim Camp Series - Snohomish, WA</a></h2>, <h2 class=\"smw-title\"><a href=\"https://fitterandfaster.com/swim-clinics/freestyle-technique-race-strategy-swim-camp-series-bridgewater-nj/\">Comprehensive Freestyle Technique and Racing Skills - Bridgewater, NJ</a></h2>, <h2 class=\"smw-title\"><a href=\"https://fitterandfaster.com/swim-clinics/race-strategy-swim-camp-series-tyler-tx/\">Race Strategy Swim Camp Series - Tyler, TX</a></h2>, <h2 class=\"smw-title\"><a href=\"https://fitterandfaster.com/swim-clinics/elite-stroke-mechanics-speed-power-camp-port-charlotte-fl/\">Port Charlotte, FL Two-Day Swim Camp - Port Charlotte, FL</a></h2>, <h2 class=\"smw-title\"><a href=\"https://fitterandfaster.com/swim-clinics/explosive-performance-comprehensive-freestyle-swim-camp-series-albuquerque-nm/\">Explosive Performance: Starts &amp; Turns! - Albuquerque, NM</a></h2>, <h2 class=\"smw-title\"><a href=\"https://fitterandfaster.com/swim-clinics/short-axis-racing-race-strategy-camp-series-crown-point/\">2022 Race Strategy Camp: 200's &amp; 100's - Crown Point, IN</a></h2>, <h2 class=\"smw-title\"><a href=\"https://fitterandfaster.com/swim-clinics/explosive-performance-starts-turns-asheville-nc/\">Explosive Performance: Starts &amp; Turns! - Asheville, NC</a></h2>, <h2 class=\"smw-title\"><a href=\"https://fitterandfaster.com/swim-clinics/2022-oakley-ca-swim-camp-series-oakley-ca/\">2022 Oakley, CA Swim Camp Series - Oakley, CA</a></h2>, <h2 class=\"smw-title\"><a href=\"https://fitterandfaster.com/swim-clinics/comprehensive-starts-camp-tampa-fl/\">High Performance Backstroke &amp; Freestyle Technique - Tampa, FL</a></h2>, <h2 class=\"smw-title\"><a href=\"https://fitterandfaster.com/swim-clinics/2021-high-performance-swim-camp-series-highland-heights-ky/\">Comprehensive Freestyle Racing Camp - Highland Heights, KY</a></h2>, <h2 class=\"smw-title\"><a href=\"https://fitterandfaster.com/swim-clinics/2022-race-strategy-explosive-performance-camp-reedley-ca/\">2022 Race Strategy &amp; Explosive Performance Camp - Reedley, CA</a></h2>, <h2 class=\"smw-title\"><a href=\"https://fitterandfaster.com/swim-clinics/explosive-performance-starts-turns-erie-pa/\">Explosive Performance: Starts &amp; Turns! - Erie, PA</a></h2>, <h2 class=\"smw-title\"><a href=\"https://fitterandfaster.com/swim-clinics/high-performance-stroke-technique-middletown-ri/\">High Performance Stroke Technique - Middletown, RI</a></h2>, <h2 class=\"smw-title\"><a href=\"https://fitterandfaster.com/swim-clinics/high-performance-technique-faster-racing-camp-series-west-carrollton-oh/\">2022 West Carrollton, OH Swim Camp - West Carrollton, OH</a></h2>, <h2 class=\"smw-title\"><a href=\"https://fitterandfaster.com/swim-clinics/2022-oakley-ca-swim-camp-series-oakley-ca/\">2022 Oakley, CA Swim Camp Series - Oakley, CA</a></h2>, <h2 class=\"find-a-clinic-title\">Upcoming Clinics</h2>, <h2 class=\"mk-fancy-title simple-style find-a-clinic-title color-single\" id=\"fancy-title-11\">\n",
      "<span>\n",
      "\t\t\t\tFind past swim clinics by year\t\t\t</span>\n",
      "</h2>, <h2 class=\"ff-modal-title\"></h2>, <h2>Call us at 786-837-6880</h2>, <h2>Call us at 786-837-6880</h2>, <h2>Call us at 786-837-6880</h2>]\n"
     ]
    }
   ],
   "source": [
    "print(soup.find_all(re.compile('h[2]$')))"
   ]
  },
  {
   "cell_type": "code",
   "execution_count": 21,
   "id": "5ae8892d",
   "metadata": {},
   "outputs": [],
   "source": [
    "page = BeautifulSoup(requests.get(url).text, \"lxml\")\n",
    "\n",
    "list=[]\n",
    "for headlines in page.find_all('h2'):\n",
    "    list.append(headlines.text.strip())"
   ]
  },
  {
   "cell_type": "code",
   "execution_count": 44,
   "id": "bd86877f",
   "metadata": {},
   "outputs": [
    {
     "data": {
      "text/html": [
       "<div>\n",
       "<style scoped>\n",
       "    .dataframe tbody tr th:only-of-type {\n",
       "        vertical-align: middle;\n",
       "    }\n",
       "\n",
       "    .dataframe tbody tr th {\n",
       "        vertical-align: top;\n",
       "    }\n",
       "\n",
       "    .dataframe thead th {\n",
       "        text-align: right;\n",
       "    }\n",
       "</style>\n",
       "<table border=\"1\" class=\"dataframe\">\n",
       "  <thead>\n",
       "    <tr style=\"text-align: right;\">\n",
       "      <th></th>\n",
       "      <th>camp locations (whole)</th>\n",
       "    </tr>\n",
       "  </thead>\n",
       "  <tbody>\n",
       "    <tr>\n",
       "      <th>0</th>\n",
       "      <td>2021 High-Performance Freestyle &amp; Backstroke C...</td>\n",
       "    </tr>\n",
       "    <tr>\n",
       "      <th>1</th>\n",
       "      <td>Butterfly &amp; Breaststroke Technique Camp - Pont...</td>\n",
       "    </tr>\n",
       "    <tr>\n",
       "      <th>2</th>\n",
       "      <td>High Performance Stroke Technique Camp - Water...</td>\n",
       "    </tr>\n",
       "  </tbody>\n",
       "</table>\n",
       "</div>"
      ],
      "text/plain": [
       "                              camp locations (whole)\n",
       "0  2021 High-Performance Freestyle & Backstroke C...\n",
       "1  Butterfly & Breaststroke Technique Camp - Pont...\n",
       "2  High Performance Stroke Technique Camp - Water..."
      ]
     },
     "execution_count": 44,
     "metadata": {},
     "output_type": "execute_result"
    }
   ],
   "source": [
    "\n",
    "camp_locations_whole = list[1::2]\n",
    "df= pd.DataFrame(camp_locations_whole, columns=['camp locations (whole)'])\n",
    "df.head(3)"
   ]
  },
  {
   "cell_type": "code",
   "execution_count": 61,
   "id": "6cd9af2e",
   "metadata": {},
   "outputs": [
    {
     "data": {
      "text/html": [
       "<div>\n",
       "<style scoped>\n",
       "    .dataframe tbody tr th:only-of-type {\n",
       "        vertical-align: middle;\n",
       "    }\n",
       "\n",
       "    .dataframe tbody tr th {\n",
       "        vertical-align: top;\n",
       "    }\n",
       "\n",
       "    .dataframe thead th {\n",
       "        text-align: right;\n",
       "    }\n",
       "</style>\n",
       "<table border=\"1\" class=\"dataframe\">\n",
       "  <thead>\n",
       "    <tr style=\"text-align: right;\">\n",
       "      <th></th>\n",
       "      <th>camp locations (whole)</th>\n",
       "    </tr>\n",
       "  </thead>\n",
       "  <tbody>\n",
       "    <tr>\n",
       "      <th>0</th>\n",
       "      <td>Performance Freestyle &amp; Backstroke Camp</td>\n",
       "    </tr>\n",
       "    <tr>\n",
       "      <th>1</th>\n",
       "      <td>Ponte Vedra, FL</td>\n",
       "    </tr>\n",
       "    <tr>\n",
       "      <th>2</th>\n",
       "      <td>Watertown, CT</td>\n",
       "    </tr>\n",
       "  </tbody>\n",
       "</table>\n",
       "</div>"
      ],
      "text/plain": [
       "                     camp locations (whole)\n",
       "0  Performance Freestyle & Backstroke Camp \n",
       "1                           Ponte Vedra, FL\n",
       "2                             Watertown, CT"
      ]
     },
     "execution_count": 61,
     "metadata": {},
     "output_type": "execute_result"
    }
   ],
   "source": [
    " df2= df['camp locations (whole)'].str.split('-').str[1]\n",
    "df2 = pd.DataFrame(df2.dropna())\n",
    "df2.head(3)"
   ]
  },
  {
   "cell_type": "code",
   "execution_count": null,
   "id": "e40a24e4",
   "metadata": {},
   "outputs": [],
   "source": []
  },
  {
   "cell_type": "code",
   "execution_count": 63,
   "id": "87aa4e20",
   "metadata": {},
   "outputs": [
    {
     "ename": "ValueError",
     "evalue": "Length of values (1) does not match length of index (39)",
     "output_type": "error",
     "traceback": [
      "\u001b[1;31m---------------------------------------------------------------------------\u001b[0m",
      "\u001b[1;31mValueError\u001b[0m                                Traceback (most recent call last)",
      "\u001b[1;32m<ipython-input-63-c4d10471cb12>\u001b[0m in \u001b[0;36m<module>\u001b[1;34m\u001b[0m\n\u001b[0;32m      3\u001b[0m    \u001b[0mlength\u001b[0m\u001b[1;33m.\u001b[0m\u001b[0mappend\u001b[0m\u001b[1;33m(\u001b[0m\u001b[0mlen\u001b[0m\u001b[1;33m(\u001b[0m\u001b[0mi\u001b[0m\u001b[1;33m)\u001b[0m\u001b[1;33m)\u001b[0m\u001b[1;33m\u001b[0m\u001b[1;33m\u001b[0m\u001b[0m\n\u001b[0;32m      4\u001b[0m \u001b[1;33m\u001b[0m\u001b[0m\n\u001b[1;32m----> 5\u001b[1;33m \u001b[0mdf2\u001b[0m\u001b[1;33m[\u001b[0m\u001b[1;34m'length'\u001b[0m\u001b[1;33m]\u001b[0m \u001b[1;33m=\u001b[0m \u001b[0mlength\u001b[0m\u001b[1;33m\u001b[0m\u001b[1;33m\u001b[0m\u001b[0m\n\u001b[0m\u001b[0;32m      6\u001b[0m \u001b[0mdf2\u001b[0m\u001b[1;33m\u001b[0m\u001b[1;33m\u001b[0m\u001b[0m\n",
      "\u001b[1;32m~\\anaconda3\\lib\\site-packages\\pandas\\core\\frame.py\u001b[0m in \u001b[0;36m__setitem__\u001b[1;34m(self, key, value)\u001b[0m\n\u001b[0;32m   3161\u001b[0m         \u001b[1;32melse\u001b[0m\u001b[1;33m:\u001b[0m\u001b[1;33m\u001b[0m\u001b[1;33m\u001b[0m\u001b[0m\n\u001b[0;32m   3162\u001b[0m             \u001b[1;31m# set column\u001b[0m\u001b[1;33m\u001b[0m\u001b[1;33m\u001b[0m\u001b[1;33m\u001b[0m\u001b[0m\n\u001b[1;32m-> 3163\u001b[1;33m             \u001b[0mself\u001b[0m\u001b[1;33m.\u001b[0m\u001b[0m_set_item\u001b[0m\u001b[1;33m(\u001b[0m\u001b[0mkey\u001b[0m\u001b[1;33m,\u001b[0m \u001b[0mvalue\u001b[0m\u001b[1;33m)\u001b[0m\u001b[1;33m\u001b[0m\u001b[1;33m\u001b[0m\u001b[0m\n\u001b[0m\u001b[0;32m   3164\u001b[0m \u001b[1;33m\u001b[0m\u001b[0m\n\u001b[0;32m   3165\u001b[0m     \u001b[1;32mdef\u001b[0m \u001b[0m_setitem_slice\u001b[0m\u001b[1;33m(\u001b[0m\u001b[0mself\u001b[0m\u001b[1;33m,\u001b[0m \u001b[0mkey\u001b[0m\u001b[1;33m:\u001b[0m \u001b[0mslice\u001b[0m\u001b[1;33m,\u001b[0m \u001b[0mvalue\u001b[0m\u001b[1;33m)\u001b[0m\u001b[1;33m:\u001b[0m\u001b[1;33m\u001b[0m\u001b[1;33m\u001b[0m\u001b[0m\n",
      "\u001b[1;32m~\\anaconda3\\lib\\site-packages\\pandas\\core\\frame.py\u001b[0m in \u001b[0;36m_set_item\u001b[1;34m(self, key, value)\u001b[0m\n\u001b[0;32m   3240\u001b[0m         \"\"\"\n\u001b[0;32m   3241\u001b[0m         \u001b[0mself\u001b[0m\u001b[1;33m.\u001b[0m\u001b[0m_ensure_valid_index\u001b[0m\u001b[1;33m(\u001b[0m\u001b[0mvalue\u001b[0m\u001b[1;33m)\u001b[0m\u001b[1;33m\u001b[0m\u001b[1;33m\u001b[0m\u001b[0m\n\u001b[1;32m-> 3242\u001b[1;33m         \u001b[0mvalue\u001b[0m \u001b[1;33m=\u001b[0m \u001b[0mself\u001b[0m\u001b[1;33m.\u001b[0m\u001b[0m_sanitize_column\u001b[0m\u001b[1;33m(\u001b[0m\u001b[0mkey\u001b[0m\u001b[1;33m,\u001b[0m \u001b[0mvalue\u001b[0m\u001b[1;33m)\u001b[0m\u001b[1;33m\u001b[0m\u001b[1;33m\u001b[0m\u001b[0m\n\u001b[0m\u001b[0;32m   3243\u001b[0m         \u001b[0mNDFrame\u001b[0m\u001b[1;33m.\u001b[0m\u001b[0m_set_item\u001b[0m\u001b[1;33m(\u001b[0m\u001b[0mself\u001b[0m\u001b[1;33m,\u001b[0m \u001b[0mkey\u001b[0m\u001b[1;33m,\u001b[0m \u001b[0mvalue\u001b[0m\u001b[1;33m)\u001b[0m\u001b[1;33m\u001b[0m\u001b[1;33m\u001b[0m\u001b[0m\n\u001b[0;32m   3244\u001b[0m \u001b[1;33m\u001b[0m\u001b[0m\n",
      "\u001b[1;32m~\\anaconda3\\lib\\site-packages\\pandas\\core\\frame.py\u001b[0m in \u001b[0;36m_sanitize_column\u001b[1;34m(self, key, value, broadcast)\u001b[0m\n\u001b[0;32m   3897\u001b[0m \u001b[1;33m\u001b[0m\u001b[0m\n\u001b[0;32m   3898\u001b[0m             \u001b[1;31m# turn me into an ndarray\u001b[0m\u001b[1;33m\u001b[0m\u001b[1;33m\u001b[0m\u001b[1;33m\u001b[0m\u001b[0m\n\u001b[1;32m-> 3899\u001b[1;33m             \u001b[0mvalue\u001b[0m \u001b[1;33m=\u001b[0m \u001b[0msanitize_index\u001b[0m\u001b[1;33m(\u001b[0m\u001b[0mvalue\u001b[0m\u001b[1;33m,\u001b[0m \u001b[0mself\u001b[0m\u001b[1;33m.\u001b[0m\u001b[0mindex\u001b[0m\u001b[1;33m)\u001b[0m\u001b[1;33m\u001b[0m\u001b[1;33m\u001b[0m\u001b[0m\n\u001b[0m\u001b[0;32m   3900\u001b[0m             \u001b[1;32mif\u001b[0m \u001b[1;32mnot\u001b[0m \u001b[0misinstance\u001b[0m\u001b[1;33m(\u001b[0m\u001b[0mvalue\u001b[0m\u001b[1;33m,\u001b[0m \u001b[1;33m(\u001b[0m\u001b[0mnp\u001b[0m\u001b[1;33m.\u001b[0m\u001b[0mndarray\u001b[0m\u001b[1;33m,\u001b[0m \u001b[0mIndex\u001b[0m\u001b[1;33m)\u001b[0m\u001b[1;33m)\u001b[0m\u001b[1;33m:\u001b[0m\u001b[1;33m\u001b[0m\u001b[1;33m\u001b[0m\u001b[0m\n\u001b[0;32m   3901\u001b[0m                 \u001b[1;32mif\u001b[0m \u001b[0misinstance\u001b[0m\u001b[1;33m(\u001b[0m\u001b[0mvalue\u001b[0m\u001b[1;33m,\u001b[0m \u001b[0mlist\u001b[0m\u001b[1;33m)\u001b[0m \u001b[1;32mand\u001b[0m \u001b[0mlen\u001b[0m\u001b[1;33m(\u001b[0m\u001b[0mvalue\u001b[0m\u001b[1;33m)\u001b[0m \u001b[1;33m>\u001b[0m \u001b[1;36m0\u001b[0m\u001b[1;33m:\u001b[0m\u001b[1;33m\u001b[0m\u001b[1;33m\u001b[0m\u001b[0m\n",
      "\u001b[1;32m~\\anaconda3\\lib\\site-packages\\pandas\\core\\internals\\construction.py\u001b[0m in \u001b[0;36msanitize_index\u001b[1;34m(data, index)\u001b[0m\n\u001b[0;32m    749\u001b[0m     \"\"\"\n\u001b[0;32m    750\u001b[0m     \u001b[1;32mif\u001b[0m \u001b[0mlen\u001b[0m\u001b[1;33m(\u001b[0m\u001b[0mdata\u001b[0m\u001b[1;33m)\u001b[0m \u001b[1;33m!=\u001b[0m \u001b[0mlen\u001b[0m\u001b[1;33m(\u001b[0m\u001b[0mindex\u001b[0m\u001b[1;33m)\u001b[0m\u001b[1;33m:\u001b[0m\u001b[1;33m\u001b[0m\u001b[1;33m\u001b[0m\u001b[0m\n\u001b[1;32m--> 751\u001b[1;33m         raise ValueError(\n\u001b[0m\u001b[0;32m    752\u001b[0m             \u001b[1;34m\"Length of values \"\u001b[0m\u001b[1;33m\u001b[0m\u001b[1;33m\u001b[0m\u001b[0m\n\u001b[0;32m    753\u001b[0m             \u001b[1;34mf\"({len(data)}) \"\u001b[0m\u001b[1;33m\u001b[0m\u001b[1;33m\u001b[0m\u001b[0m\n",
      "\u001b[1;31mValueError\u001b[0m: Length of values (1) does not match length of index (39)"
     ]
    }
   ],
   "source": [
    "length = []\n",
    "for i in df2:\n",
    "   length.append(len(i)) \n",
    "\n",
    "df2['length'] = length\n",
    "df2"
   ]
  },
  {
   "cell_type": "code",
   "execution_count": null,
   "id": "ee1f25fd",
   "metadata": {},
   "outputs": [],
   "source": []
  }
 ],
 "metadata": {
  "kernelspec": {
   "display_name": "Python 3",
   "language": "python",
   "name": "python3"
  },
  "language_info": {
   "codemirror_mode": {
    "name": "ipython",
    "version": 3
   },
   "file_extension": ".py",
   "mimetype": "text/x-python",
   "name": "python",
   "nbconvert_exporter": "python",
   "pygments_lexer": "ipython3",
   "version": "3.8.8"
  }
 },
 "nbformat": 4,
 "nbformat_minor": 5
}
